{
 "metadata": {
  "name": "LOTUS v2"
 },
 "nbformat": 3,
 "nbformat_minor": 0,
 "worksheets": [
  {
   "cells": [
    {
     "cell_type": "heading",
     "level": 1,
     "metadata": {},
     "source": [
      "Calculating Delta V and Propellant Mass to Lunar Orbit"
     ]
    },
    {
     "cell_type": "markdown",
     "metadata": {},
     "source": [
      "Adapted from http://space.stackexchange.com/questions/2103/how-to-calculate-delta-v-for-lunar-flyby\n",
      "\n",
      "Patched Conic Method to calculate the $\\Delta V$ for lunar transfer\n",
      "\n",
      "The main equation that we use is:\n",
      "\n",
      "$\\varepsilon = \\frac{v^2}{2} - \\frac{\\mu}{r}$\n",
      "\n",
      "which says total energy is the sum of kinectic and potential energy\n",
      "\n",
      "For elliptical orbits, the energy is\n",
      "\n",
      "$\\varepsilon = -\\frac{\\mu}{r_1 + r_2}$"
     ]
    },
    {
     "cell_type": "heading",
     "level": 3,
     "metadata": {},
     "source": [
      "Constants"
     ]
    },
    {
     "cell_type": "markdown",
     "metadata": {},
     "source": [
      "Standard gravitational parameter for Earth and moon\n",
      "\n",
      "$\\mu_E = 398600.4418 \\frac{km^3}{s^2}$\n",
      "\n",
      "$\\mu_M = 4902.8 \\frac{km^3}{s^2}$\n",
      "\n",
      "$r_{LEO} = 200 km$\n",
      "\n",
      "$r_{LLO} = 100 km$\n",
      "\n",
      "Semi major axis of lunar orbit around Earth\n",
      "\n",
      "$a_M = 384399 km$\n",
      "\n",
      "Geostationary Orbit\n",
      "\n",
      "$r_{GEO} = 42614 km$"
     ]
    },
    {
     "cell_type": "code",
     "collapsed": false,
     "input": [
      "mu_Earth = 398600.4418\n",
      "mu_Moon = 4902.8\n",
      "r_Earth = 6371\n",
      "r_Moon = 1737.1\n",
      "r_LEO = 200 + r_Earth\n",
      "r_LLO = 100 + r_Moon\n",
      "a_Moon = 384399\n",
      "r_GEO = 42614\n",
      "a_GEO = (r_GEO + r_LEO) / 2"
     ],
     "language": "python",
     "metadata": {},
     "outputs": [],
     "prompt_number": 2
    },
    {
     "cell_type": "heading",
     "level": 3,
     "metadata": {},
     "source": [
      "Velocity at Apoapsis in GTO"
     ]
    },
    {
     "cell_type": "code",
     "collapsed": false,
     "input": [
      "r_GEO - r_Earth"
     ],
     "language": "python",
     "metadata": {},
     "outputs": [
      {
       "output_type": "pyout",
       "prompt_number": 3,
       "text": [
        "36243"
       ]
      }
     ],
     "prompt_number": 3
    },
    {
     "cell_type": "markdown",
     "metadata": {},
     "source": [
      "We assume the satellite is in a geostationary transfer orbit (GTO) with periapsis at 200km altitude and apoapsis at 36243 km altitude\n",
      "\n",
      "$-\\frac{\\mu_E}{r_{LEO} + r_{GEO}} = \\frac{v^2_{GTO,apo}}{2} - \\frac{\\mu_E}{r_{GEO}}$\n",
      "\n",
      "Solving for the velocity $v_{GTO,apo}$\n",
      "\n",
      "$v_{GTO,apo} = \\sqrt{\\frac{2 r_{LEO} \\mu_E}{r_{GEO}(r_{GEO} + r_{LEO})}}$"
     ]
    },
    {
     "cell_type": "code",
     "collapsed": false,
     "input": [
      "v_GTO_apo = sqrt((2*r_LEO*mu_Earth)/(r_GEO*(r_GEO + r_LEO)))\n",
      "v_GTO_apo"
     ],
     "language": "python",
     "metadata": {},
     "outputs": [
      {
       "output_type": "pyout",
       "prompt_number": 4,
       "text": [
        "1.5809099420308927"
       ]
      }
     ],
     "prompt_number": 4
    },
    {
     "cell_type": "heading",
     "level": 3,
     "metadata": {},
     "source": [
      "Velocity around Earth"
     ]
    },
    {
     "cell_type": "markdown",
     "metadata": {},
     "source": [
      "Combining the equations above, we get\n",
      "\n",
      "$-\\frac{\\mu_E}{2r_{LEO}} = \\frac{v^2_{LEO}}{2} - \\frac{\\mu_E}{r_{LEO}}$\n",
      "\n",
      "and solving for v_{LEO}, we get\n",
      "\n",
      "$v_{LEO} = \\sqrt{\\frac{\\mu_E}{r_{LEO}}}$"
     ]
    },
    {
     "cell_type": "code",
     "collapsed": false,
     "input": [
      "v_LEO = sqrt(mu_Earth/ r_LEO)\n",
      "v_LEO"
     ],
     "language": "python",
     "metadata": {},
     "outputs": [
      {
       "output_type": "pyout",
       "prompt_number": 5,
       "text": [
        "7.7884879849731563"
       ]
      }
     ],
     "prompt_number": 5
    },
    {
     "cell_type": "heading",
     "level": 3,
     "metadata": {},
     "source": [
      "Injection $\\Delta V$"
     ]
    },
    {
     "cell_type": "markdown",
     "metadata": {},
     "source": [
      "We use a Hohmann transfer from GTO to Moon, which is an elliptical orbit around the Earth with periapsis $r_{GEO}$ and apoapsis $r_{moon}$. Given a radius $r$ in that elliptical orbit and velocity $v$, we get:\n",
      "\n",
      "$-\\frac{\\mu_E}{r_{GEO} + a_m} = \\frac{v^2}{2} - \\frac{\\mu_E}{r}$\n",
      "\n",
      "The velocity at the periapsis, which intersects the LEO orbit is given by:\n",
      "\n",
      "$v_{TLI,p} = \\sqrt{\\frac{2 a_m \\mu_E}{r_{GEO} (a_m + r_{GEO})}}$"
     ]
    },
    {
     "cell_type": "code",
     "collapsed": false,
     "input": [
      "v_TLI_p = sqrt(2*a_Moon*mu_Earth/(r_GEO*(a_Moon+r_GEO)))\n",
      "v_TLI_p"
     ],
     "language": "python",
     "metadata": {},
     "outputs": [
      {
       "output_type": "pyout",
       "prompt_number": 6,
       "text": [
        "4.1037255769589676"
       ]
      }
     ],
     "prompt_number": 6
    },
    {
     "cell_type": "markdown",
     "metadata": {},
     "source": [
      "The injection velocity is then:\n",
      "\n",
      "$\\Delta V_{inject} = v_p - v_{LEO}$"
     ]
    },
    {
     "cell_type": "code",
     "collapsed": false,
     "input": [
      "delta_V_inject = v_TLI_p - v_GTO_apo\n",
      "delta_V_inject"
     ],
     "language": "python",
     "metadata": {},
     "outputs": [
      {
       "output_type": "pyout",
       "prompt_number": 7,
       "text": [
        "2.522815634928075"
       ]
      }
     ],
     "prompt_number": 7
    },
    {
     "cell_type": "heading",
     "level": 3,
     "metadata": {},
     "source": [
      "Insertion $\\Delta V$"
     ]
    },
    {
     "cell_type": "markdown",
     "metadata": {},
     "source": [
      "The low-lunar orbit velocity $v_{LLO}$ is:\n",
      "\n",
      "$v_{LLO} = \\sqrt{\\frac{\\mu_m}{r_m}}$"
     ]
    },
    {
     "cell_type": "code",
     "collapsed": false,
     "input": [
      "v_LLO = sqrt(mu_Moon/r_LLO)\n",
      "v_LLO"
     ],
     "language": "python",
     "metadata": {},
     "outputs": [
      {
       "output_type": "pyout",
       "prompt_number": 8,
       "text": [
        "1.6336374852571078"
       ]
      }
     ],
     "prompt_number": 8
    },
    {
     "cell_type": "markdown",
     "metadata": {},
     "source": [
      "Velocity of the Moon around Earth is:\n",
      "\n",
      "$v_{moon} = \\sqrt{\\frac{\\mu_{Earth}}{a_m}}$"
     ]
    },
    {
     "cell_type": "code",
     "collapsed": false,
     "input": [
      "v_Moon = sqrt(mu_Earth/a_Moon)\n",
      "v_Moon"
     ],
     "language": "python",
     "metadata": {},
     "outputs": [
      {
       "output_type": "pyout",
       "prompt_number": 9,
       "text": [
        "1.0183047351724557"
       ]
      }
     ],
     "prompt_number": 9
    },
    {
     "cell_type": "markdown",
     "metadata": {},
     "source": [
      "The velocity in the transfer orbit at the radius of the Moon (apoapsis) is:\n",
      "\n",
      "$v_a = \\sqrt{\\frac{2r_E \\mu_E}{a_m (a_m + r_{Earth})}}$"
     ]
    },
    {
     "cell_type": "code",
     "collapsed": false,
     "input": [
      "v_a = sqrt(2*r_Earth*mu_Earth/(a_Moon*(a_Moon+r_Earth)))\n",
      "v_a"
     ],
     "language": "python",
     "metadata": {},
     "outputs": [
      {
       "output_type": "pyout",
       "prompt_number": 10,
       "text": [
        "0.18388061863689079"
       ]
      }
     ],
     "prompt_number": 10
    },
    {
     "cell_type": "markdown",
     "metadata": {},
     "source": [
      "The velocity relative to the Moon on approach, if the Moon weren't there, is:\n",
      "\n",
      "$v_{\\infty} = v_M - v_a$"
     ]
    },
    {
     "cell_type": "code",
     "collapsed": false,
     "input": [
      "v_inf = v_Moon - v_a\n",
      "v_inf"
     ],
     "language": "python",
     "metadata": {},
     "outputs": [
      {
       "output_type": "pyout",
       "prompt_number": 11,
       "text": [
        "0.83442411653556492"
       ]
      }
     ],
     "prompt_number": 11
    },
    {
     "cell_type": "markdown",
     "metadata": {},
     "source": [
      "That gives for the velocity on approach when the Moon _is_ there, for any radius from the Moon:\n",
      "\n",
      "$\\frac{v^2_{\\infty}}{2} = \\frac{v^2}{2} - \\frac{\\mu_M}{r}$\n",
      "\n",
      "At the radius of a low-lunar orbit, that velocity is:\n",
      "\n",
      "$v_L = \\sqrt{(v_M-v_a)^2 + \\frac{2 \\mu_M}{r_M}}$"
     ]
    },
    {
     "cell_type": "code",
     "collapsed": false,
     "input": [
      "v_L = sqrt(v_inf**2 + 2*mu_Moon/r_LLO)\n",
      "v_L"
     ],
     "language": "python",
     "metadata": {},
     "outputs": [
      {
       "output_type": "pyout",
       "prompt_number": 12,
       "text": [
        "2.4563807670494597"
       ]
      }
     ],
     "prompt_number": 12
    },
    {
     "cell_type": "markdown",
     "metadata": {},
     "source": [
      "To insert into orbit, we need to slow down relative to the Moon by:\n",
      "\n",
      "$\\Delta V_{insert} = v_L - v_{LLO}$"
     ]
    },
    {
     "cell_type": "code",
     "collapsed": false,
     "input": [
      "delta_V_insert = v_L - v_LLO\n",
      "delta_V_insert"
     ],
     "language": "python",
     "metadata": {},
     "outputs": [
      {
       "output_type": "pyout",
       "prompt_number": 13,
       "text": [
        "0.8227432817923519"
       ]
      }
     ],
     "prompt_number": 13
    },
    {
     "cell_type": "markdown",
     "metadata": {},
     "source": [
      "The total $\\Delta V$ is then:\n",
      "\n",
      "$\\Delta V_{total} = v_p - v_{LEO} + v_L - v_{LLO}$\n",
      "\n",
      "$\\Delta V_{total} = \\Delta V_{inject} + \\Delta V_{insert}$"
     ]
    },
    {
     "cell_type": "code",
     "collapsed": false,
     "input": [
      "delta_V_total = delta_V_inject + delta_V_insert\n",
      "delta_V_total"
     ],
     "language": "python",
     "metadata": {},
     "outputs": [
      {
       "output_type": "pyout",
       "prompt_number": 14,
       "text": [
        "3.3455589167204272"
       ]
      }
     ],
     "prompt_number": 14
    },
    {
     "cell_type": "heading",
     "level": 3,
     "metadata": {},
     "source": [
      "Calculating Fuel Needed"
     ]
    },
    {
     "cell_type": "heading",
     "level": 3,
     "metadata": {},
     "source": [
      "Constants"
     ]
    },
    {
     "cell_type": "markdown",
     "metadata": {},
     "source": [
      "Values taken from Wikipedia (http://en.wikipedia.org/wiki/Liquid_rocket_propellants)\n",
      "\n",
      "*Bipropellants*\n",
      "\n",
      "$V_{e,LOX-H2} = 4462 \\frac{m}{s}$\n",
      "\n",
      "$V_{e,LOX-RP1} = 3510 \\frac{m}{s}$\n",
      "\n",
      "$V_{e,N2O4-MMH} = 3347 \\frac{m}{s}$\n",
      "\n",
      "$V_{e,N2O4-N2H2} = 3369 \\frac{m}{s}$\n",
      "\n",
      "$V_{e,N2O4-N2H4/UDMH} = 3349 \\frac{m}{s}$\n",
      "\n",
      "*Monopropellants*\n",
      "\n",
      "$V_{e,hydrazine} = ?$\n",
      "\n",
      "$V_{e,H2O2} = 1860 \\frac{m}{s}$\n"
     ]
    },
    {
     "cell_type": "code",
     "collapsed": false,
     "input": [
      "V_exhaust = 3347 / 1000.\n",
      "V_exhaust"
     ],
     "language": "python",
     "metadata": {},
     "outputs": [
      {
       "output_type": "pyout",
       "prompt_number": 15,
       "text": [
        "3.347"
       ]
      }
     ],
     "prompt_number": 15
    },
    {
     "cell_type": "heading",
     "level": 4,
     "metadata": {},
     "source": [
      "Tsiolkovsky Rocket Equation"
     ]
    },
    {
     "cell_type": "markdown",
     "metadata": {},
     "source": [
      "The Tsiolkovsky rocket equation is as follows:\n",
      "\n",
      "$\\Delta V = V_e ln\\frac{m_0}{m_1}$"
     ]
    },
    {
     "cell_type": "heading",
     "level": 4,
     "metadata": {},
     "source": [
      "Mass Fraction"
     ]
    },
    {
     "cell_type": "markdown",
     "metadata": {},
     "source": [
      "Solving for the initial mass:\n",
      "\n",
      "$m_1 = m_0 exp(-\\frac{\\Delta V}{V_e})$\n",
      "\n",
      "or\n",
      "\n",
      "$m_0 = m_1 e^{\\frac{\\Delta V}{V_e}}$\n",
      "\n",
      "subtracting $m_1$ from both sides\n",
      "\n",
      "$m_0 -m_1 = m_1 (e^{\\frac{\\Delta V}{V_e}} - 1)$\n",
      "\n",
      "Mass Fraction ($M_f$) is:\n",
      "\n",
      "$M_f = 1-\\frac{m_1}{m_0} = 1-e^{-\\Delta V / V_e}$"
     ]
    },
    {
     "cell_type": "code",
     "collapsed": false,
     "input": [
      "M_frac = 1-exp(-delta_V_total/V_exhaust)\n",
      "M_frac"
     ],
     "language": "python",
     "metadata": {},
     "outputs": [
      {
       "output_type": "pyout",
       "prompt_number": 16,
       "text": [
        "0.63196213066678109"
       ]
      }
     ],
     "prompt_number": 16
    },
    {
     "cell_type": "heading",
     "level": 3,
     "metadata": {},
     "source": [
      "Assumptions"
     ]
    },
    {
     "cell_type": "markdown",
     "metadata": {},
     "source": [
      "$M_{payload} = 300 kg$\n",
      "\n",
      "$M_{ESPA} = 105 kg$\n",
      "\n",
      "$M_{subsys} = 720 kg$"
     ]
    },
    {
     "cell_type": "code",
     "collapsed": false,
     "input": [
      "M_payload = 300\n",
      "M_ESPA = 105\n",
      "M_subsys = 720\n",
      "\n",
      "M_total = M_payload + M_ESPA + M_subsys\n",
      "M_total\n"
     ],
     "language": "python",
     "metadata": {},
     "outputs": [
      {
       "output_type": "pyout",
       "prompt_number": 17,
       "text": [
        "1125"
       ]
      }
     ],
     "prompt_number": 17
    },
    {
     "cell_type": "heading",
     "level": 3,
     "metadata": {},
     "source": [
      "Propellant Mass"
     ]
    },
    {
     "cell_type": "code",
     "collapsed": false,
     "input": [
      "M_prop = M_total * M_frac\n",
      "M_prop"
     ],
     "language": "python",
     "metadata": {},
     "outputs": [
      {
       "output_type": "pyout",
       "prompt_number": 18,
       "text": [
        "710.95739700012871"
       ]
      }
     ],
     "prompt_number": 18
    },
    {
     "cell_type": "heading",
     "level": 3,
     "metadata": {},
     "source": [
      "Calculating Deceleration"
     ]
    },
    {
     "cell_type": "code",
     "collapsed": false,
     "input": [
      "F_thrust = 5000.   # [N]\n",
      "t_decel = 100.   # [sec]\n",
      "M_temp = 1000.   # [kg]\n",
      "v_init = 2500.   # [m/s]"
     ],
     "language": "python",
     "metadata": {},
     "outputs": [],
     "prompt_number": 19
    },
    {
     "cell_type": "code",
     "collapsed": false,
     "input": [
      "v_final = -(F_thrust / M_temp) * t_decel + v_init\n",
      "print v_final"
     ],
     "language": "python",
     "metadata": {},
     "outputs": [
      {
       "output_type": "stream",
       "stream": "stdout",
       "text": [
        "2000.0\n"
       ]
      }
     ],
     "prompt_number": 20
    },
    {
     "cell_type": "code",
     "collapsed": false,
     "input": [],
     "language": "python",
     "metadata": {},
     "outputs": [],
     "prompt_number": 20
    }
   ],
   "metadata": {}
  }
 ]
}