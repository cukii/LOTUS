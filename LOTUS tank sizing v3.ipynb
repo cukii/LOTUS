{
 "metadata": {
  "name": "LOTUS tank sizing v3"
 },
 "nbformat": 3,
 "nbformat_minor": 0,
 "worksheets": [
  {
   "cells": [
    {
     "cell_type": "heading",
     "level": 1,
     "metadata": {},
     "source": [
      "Propellant Tank Sizing Worksheet"
     ]
    },
    {
     "cell_type": "markdown",
     "metadata": {},
     "source": [
      "Some parts taken from SMAD"
     ]
    },
    {
     "cell_type": "code",
     "collapsed": false,
     "input": [
      "mixture_ratio = 1.64  #oxidizer-fuel (O/F) ratio, O/F = 1.64 results in roughly same size tanks for N2O4/MMH systems (src: SMAD)\n",
      "V_ullage_percent = 0.05  #[%] (src: SMAD)\n",
      "V_residual_percent = 0.05  #[%] (src: SMAD)\n",
      "\n",
      "\n",
      "rho_N2O4 = 1.450  #[g/cm3]\n",
      "rho_N2O4 = 1.450 * (1./1000) * (100./1)**3  #[kg/m3]\n",
      "rho_MMH = 0.880  #[g/cm3]\n",
      "rho_MMH = 0.880 * (1./1000) * (100./1)**3  #[kg/m3]\n",
      "\n",
      "rho_ox = rho_N2O4\n",
      "rho_fuel = rho_MMH"
     ],
     "language": "python",
     "metadata": {},
     "outputs": [],
     "prompt_number": 1
    },
    {
     "cell_type": "markdown",
     "metadata": {},
     "source": [
      "Assuming a spherical tank of 12 inch radius (30.5 cm)"
     ]
    },
    {
     "cell_type": "code",
     "collapsed": false,
     "input": [
      "r_tank = 0.305  # [m]"
     ],
     "language": "python",
     "metadata": {},
     "outputs": [],
     "prompt_number": 2
    },
    {
     "cell_type": "code",
     "collapsed": false,
     "input": [
      "V_tank = (4./3.)*pi*r_tank**3\n",
      "print V_tank, \"m3\""
     ],
     "language": "python",
     "metadata": {},
     "outputs": [
      {
       "output_type": "stream",
       "stream": "stdout",
       "text": [
        "0.118846973684 m3\n"
       ]
      }
     ],
     "prompt_number": 3
    },
    {
     "cell_type": "code",
     "collapsed": false,
     "input": [
      "V_ullage = V_tank * V_ullage_percent\n",
      "V_residual = V_tank * V_residual_percent\n",
      "V_useable = V_tank - V_ullage - V_residual\n",
      "V_total_fluid = V_tank - V_ullage\n",
      "print 'useable fuild volume = ', V_useable, \"m3\"\n",
      "print 'total fluid volume = ', V_total_fluid, \"m3\""
     ],
     "language": "python",
     "metadata": {},
     "outputs": [
      {
       "output_type": "stream",
       "stream": "stdout",
       "text": [
        "useable fuild volume =  0.106962276316 m3\n",
        "total fluid volume =  0.112904625 m3\n"
       ]
      }
     ],
     "prompt_number": 4
    },
    {
     "cell_type": "code",
     "collapsed": false,
     "input": [
      "print 'radius = ', (0.75 * (1./pi) * V_tank)**(1./3), 'm'"
     ],
     "language": "python",
     "metadata": {},
     "outputs": [
      {
       "output_type": "stream",
       "stream": "stdout",
       "text": [
        "radius =  0.305 m\n"
       ]
      }
     ],
     "prompt_number": 5
    },
    {
     "cell_type": "heading",
     "level": 3,
     "metadata": {},
     "source": [
      "Tank mass and thickness"
     ]
    },
    {
     "cell_type": "code",
     "collapsed": false,
     "input": [
      "my_material_name = \"Aluminum 2219-T851\"\n",
      "my_material_rho = 2.85e3  #[kg/m3]\n",
      "my_material_Ftu = 420e6  #[N/m2]"
     ],
     "language": "python",
     "metadata": {},
     "outputs": [],
     "prompt_number": 6
    },
    {
     "cell_type": "code",
     "collapsed": false,
     "input": [
      "my_material_name = \"Steel 17-4PH H1150z\"\n",
      "my_material_rho = 7.89e3  #[kg/m3]\n",
      "my_material_Ftu = 860e6  #[N/m2]"
     ],
     "language": "python",
     "metadata": {},
     "outputs": [],
     "prompt_number": 7
    },
    {
     "cell_type": "code",
     "collapsed": false,
     "input": [
      "psia_2_pascal = 6894.75728\n",
      "P_proptank = 300 * psia_2_pascal\n",
      "print P_proptank, \"[N/m2]\""
     ],
     "language": "python",
     "metadata": {},
     "outputs": [
      {
       "output_type": "stream",
       "stream": "stdout",
       "text": [
        "2068427.184 [N/m2]\n"
       ]
      }
     ],
     "prompt_number": 8
    },
    {
     "cell_type": "code",
     "collapsed": false,
     "input": [
      "t_proptank = P_proptank * r_tank / (2*my_material_Ftu)\n",
      "M_proptank = my_material_rho * ((4./3) * pi * ((r_tank + t_proptank)**3 - r_tank**3))\n",
      "print 'tank thickness = ', t_proptank, 'm'\n",
      "print 'tank mass = ', M_proptank, 'kg'"
     ],
     "language": "python",
     "metadata": {},
     "outputs": [
      {
       "output_type": "stream",
       "stream": "stdout",
       "text": [
        "tank thickness =  0.000366785052977 m\n",
        "tank mass =  3.38704012581 kg\n"
       ]
      }
     ],
     "prompt_number": 9
    },
    {
     "cell_type": "heading",
     "level": 3,
     "metadata": {},
     "source": [
      "Calculating Pressurant tank volume"
     ]
    },
    {
     "cell_type": "markdown",
     "metadata": {},
     "source": [
      "$m_{gi} = \\frac{P_p V_p}{RT_i} [ \\frac{k}{1-(P_g/P_i)}]$\n",
      "\n",
      "where,\n",
      "\n",
      "$m_{gi}$ is the initial pressurant mass\n",
      "\n",
      "$P_p$ and $V_p$ are instantaneous gas pressure and volume in the propellant tank\n",
      "\n",
      "$P_g$ (300-600 psia) and $P_i$ (3000-6000 psia) are instantaneous gas pressure and initial gas pressure in the pressurant tank\n",
      "\n",
      "$T_i$ (275-300K) is the initial gas temperature\n",
      "\n",
      "$k$ is the specific heat reatio for a pressurant gas (1.40 for nitrogen, 1.67 for helium)\n",
      "\n",
      "$R$ is the pressurant gas constant (nitrogen: 296.8 J/(kg K), helium: 2077.3 J/(kg K))"
     ]
    },
    {
     "cell_type": "code",
     "collapsed": false,
     "input": [
      "psia_2_pascal = 6894.75728\n",
      "Pp = 300 * psia_2_pascal   # Pa (N/m2)\n",
      "Vp = V_tank * 2   # m3\n",
      "Pg = 300 * psia_2_pascal   # Pa (N/m2)\n",
      "Pi = 3000 * psia_2_pascal  # Pa (N/m2)\n",
      "Ti = 300 # K\n",
      "k = 1.67 # helium\n",
      "R = 2077.3   # J/kg-K, helium\n",
      "\n",
      "mgi = (Pp * Vp)/(R * Ti) * (k/(1-(Pg/Pi)))\n",
      "print mgi"
     ],
     "language": "python",
     "metadata": {},
     "outputs": [
      {
       "output_type": "stream",
       "stream": "stdout",
       "text": [
        "1.46390146591\n"
       ]
      }
     ],
     "prompt_number": 10
    },
    {
     "cell_type": "markdown",
     "metadata": {},
     "source": [
      "Ideal Gas Law\n",
      "\n",
      "$PV = nRT = \\frac{m}{M}RT$\n",
      "\n",
      "$R$ ($8.314 \\frac{J}{K mol}$) is the ideal gas constant (fyi, it's the product of Boltzmann constant and Avogadro constant)\n",
      "\n",
      "$M$ is the molar mass (N2(g): 28.02, He: 4.003) [g/mol]"
     ]
    },
    {
     "cell_type": "code",
     "collapsed": false,
     "input": [
      "R_ideal_gas_const = 8.314   # [J/K-mol]\n",
      "molar_mass = 4.003"
     ],
     "language": "python",
     "metadata": {},
     "outputs": [],
     "prompt_number": 11
    },
    {
     "cell_type": "code",
     "collapsed": false,
     "input": [
      "P_pressurant_tank_init = Pi\n",
      "V_pressurant_tank = (mgi * 1000 /molar_mass) * R_ideal_gas_const * Ti / P_pressurant_tank_init\n",
      "print V_pressurant_tank, 'm3'"
     ],
     "language": "python",
     "metadata": {},
     "outputs": [
      {
       "output_type": "stream",
       "stream": "stdout",
       "text": [
        "0.0440978375928 m3\n"
       ]
      }
     ],
     "prompt_number": 12
    },
    {
     "cell_type": "code",
     "collapsed": false,
     "input": [
      "radius_pressurant_tank = (0.75 * (1./pi) * V_pressurant_tank)**(1./3)\n",
      "print 'radius = ', radius_pressurant_tank, 'm'"
     ],
     "language": "python",
     "metadata": {},
     "outputs": [
      {
       "output_type": "stream",
       "stream": "stdout",
       "text": [
        "radius =  0.219167537533 m\n"
       ]
      }
     ],
     "prompt_number": 13
    },
    {
     "cell_type": "code",
     "collapsed": false,
     "input": [
      "t_pressurant_tank = P_pressurant_tank_init * radius_pressurant_tank / (2 * my_material_Ftu)\n",
      "M_pressurant_tank = my_material_rho * ((4./3) * pi * ((radius_pressurant_tank + t_pressurant_tank)**3 - radius_pressurant_tank**3))\n",
      "print 'pressurant tank thickness = ', t_pressurant_tank, 'm'\n",
      "print 'pressurant tank mass = ', M_pressurant_tank, 'kg'"
     ],
     "language": "python",
     "metadata": {},
     "outputs": [
      {
       "output_type": "stream",
       "stream": "stdout",
       "text": [
        "pressurant tank thickness =  0.00263565170049 m\n",
        "pressurant tank mass =  12.7039737054 kg\n"
       ]
      }
     ],
     "prompt_number": 14
    },
    {
     "cell_type": "heading",
     "level": 3,
     "metadata": {},
     "source": [
      "Masses for Oxidizer and Fuel"
     ]
    },
    {
     "cell_type": "code",
     "collapsed": false,
     "input": [
      "M_ox_total = V_total_fluid * rho_ox\n",
      "M_ox_useable = V_useable * rho_ox\n",
      "M_fuel_total = V_total_fluid * rho_fuel\n",
      "M_fuel_useable = V_useable * rho_fuel\n",
      "print 'total oxidizer mass = ', M_ox_total, 'kg'\n",
      "print 'total fuel mass = ', M_fuel_total, 'kg'\n",
      "print 'useable oxidizer mass = ', M_ox_useable, 'kg'\n",
      "print 'useable fuel mass = ', M_fuel_useable, 'kg'"
     ],
     "language": "python",
     "metadata": {},
     "outputs": [
      {
       "output_type": "stream",
       "stream": "stdout",
       "text": [
        "total oxidizer mass =  163.71170625 kg\n",
        "total fuel mass =  99.3560699999 kg\n",
        "useable oxidizer mass =  155.095300658 kg\n",
        "useable fuel mass =  94.1268031578 kg\n"
       ]
      }
     ],
     "prompt_number": 15
    },
    {
     "cell_type": "code",
     "collapsed": false,
     "input": [
      "# Checking mixture ratio of ox and fuel\n",
      "mixture_ratio = M_ox_useable / M_fuel_useable\n",
      "print \"mixture ratio = \", mixture_ratio"
     ],
     "language": "python",
     "metadata": {},
     "outputs": [
      {
       "output_type": "stream",
       "stream": "stdout",
       "text": [
        "mixture ratio =  1.64772727273\n"
       ]
      }
     ],
     "prompt_number": 16
    },
    {
     "cell_type": "heading",
     "level": 3,
     "metadata": {},
     "source": [
      "Calculating total mass for propulsion subsystem"
     ]
    },
    {
     "cell_type": "code",
     "collapsed": false,
     "input": [
      "design_margin = 1.3\n",
      "print 'Design margin =', design_margin"
     ],
     "language": "python",
     "metadata": {},
     "outputs": [
      {
       "output_type": "stream",
       "stream": "stdout",
       "text": [
        "Design margin = 1.3\n"
       ]
      }
     ],
     "prompt_number": 17
    },
    {
     "cell_type": "code",
     "collapsed": false,
     "input": [
      "M_propellant_total = M_ox_total + M_fuel_total\n",
      "M_propellant_useable_total = M_ox_useable + M_fuel_useable\n",
      "M_tank_total = M_proptank * 2\n",
      "M_tank_other = M_tank_total * .3\n",
      "M_propellant_and_hardware = M_propellant_total + M_tank_total + M_tank_other\n",
      "print 'propellant mass total = ', M_propellant_total, 'kg'\n",
      "print 'propellant usesuable mass total = ', M_propellant_useable_total, 'kg'\n",
      "print 'tank mass total (2 tanks) = ', M_tank_total, 'kg'\n",
      "print 'tank hardware mass = ', M_tank_other, 'kg'\n",
      "print 'prop and hardware mass = ', M_propellant_and_hardware, 'kg'"
     ],
     "language": "python",
     "metadata": {},
     "outputs": [
      {
       "output_type": "stream",
       "stream": "stdout",
       "text": [
        "propellant mass total =  263.06777625 kg\n",
        "propellant usesuable mass total =  249.222103816 kg\n",
        "tank mass total (2 tanks) =  6.77408025161 kg\n",
        "tank hardware mass =  2.03222407548 kg\n",
        "prop and hardware mass =  271.874080577 kg\n"
       ]
      }
     ],
     "prompt_number": 18
    },
    {
     "cell_type": "code",
     "collapsed": false,
     "input": [
      "M_pressurant_gas = mgi\n",
      "M_pressurant_tank_total = M_pressurant_tank\n",
      "M_pressurant_tank_other = M_pressurant_tank_total * .3\n",
      "M_pressurant_and_hardware = M_pressurant_gas + M_pressurant_tank_total + M_pressurant_tank_other\n",
      "print 'pressurant gas = ', M_pressurant_gas, 'kg'\n",
      "print 'pressurant tank mass total = ', M_pressurant_tank_total, 'kg'\n",
      "print 'pressurant tank hardware mass = ', M_pressurant_tank_other, 'kg'\n",
      "print 'pressurant gas and hardware mass = ', M_pressurant_and_hardware, 'kg'"
     ],
     "language": "python",
     "metadata": {},
     "outputs": [
      {
       "output_type": "stream",
       "stream": "stdout",
       "text": [
        "pressurant gas =  1.46390146591 kg\n",
        "pressurant tank mass total =  12.7039737054 kg\n",
        "pressurant tank hardware mass =  3.81119211162 kg\n",
        "pressurant gas and hardware mass =  17.9790672829 kg\n"
       ]
      }
     ],
     "prompt_number": 19
    },
    {
     "cell_type": "code",
     "collapsed": false,
     "input": [
      "M_prop_subsystem = (M_propellant_and_hardware + M_pressurant_and_hardware) * design_margin\n",
      "print 'Propulsion Subsystem Mass with margin:', M_prop_subsystem, 'kg'"
     ],
     "language": "python",
     "metadata": {},
     "outputs": [
      {
       "output_type": "stream",
       "stream": "stdout",
       "text": [
        "Propulsion Subsystem Mass with margin: 376.809092218 kg\n"
       ]
      }
     ],
     "prompt_number": 20
    },
    {
     "cell_type": "heading",
     "level": 3,
     "metadata": {},
     "source": [
      "Evaluating Mass Fraction"
     ]
    },
    {
     "cell_type": "code",
     "collapsed": false,
     "input": [
      "M_payload = 300\n",
      "M_ESPA = 105\n",
      "M_subsys = 720\n",
      "\n",
      "M_total = M_payload + M_ESPA + M_subsys\n",
      "M_frac = M_propellant_useable_total / M_total\n",
      "print 'total spacecraft mass = ', M_total, 'kg'\n",
      "print 'mass fraction = ', M_frac"
     ],
     "language": "python",
     "metadata": {},
     "outputs": [
      {
       "output_type": "stream",
       "stream": "stdout",
       "text": [
        "total spacecraft mass =  1125 kg\n",
        "mass fraction =  0.221530758947\n"
       ]
      }
     ],
     "prompt_number": 21
    },
    {
     "cell_type": "markdown",
     "metadata": {},
     "source": [
      "The Tsiolkovsky rocket equation is as follows:\n",
      "\n",
      "$\\Delta V = V_e ln\\frac{m_0}{m_1}$"
     ]
    },
    {
     "cell_type": "code",
     "collapsed": false,
     "input": [
      "V_exhaust = 3347 / 1000.   # for N2O4/MMH\n",
      "delta_V = V_exhaust * log((1-M_frac) ** -1)\n",
      "print \"exhaust velocity = \", V_exhaust, 'km/s'\n",
      "print 'delta V = ', delta_V, 'km/s'"
     ],
     "language": "python",
     "metadata": {},
     "outputs": [
      {
       "output_type": "stream",
       "stream": "stdout",
       "text": [
        "exhaust velocity =  3.347 km/s\n",
        "delta V =  0.838175149313 km/s\n"
       ]
      }
     ],
     "prompt_number": 22
    },
    {
     "cell_type": "code",
     "collapsed": false,
     "input": [],
     "language": "python",
     "metadata": {},
     "outputs": [],
     "prompt_number": 22
    },
    {
     "cell_type": "code",
     "collapsed": false,
     "input": [],
     "language": "python",
     "metadata": {},
     "outputs": [],
     "prompt_number": 22
    },
    {
     "cell_type": "code",
     "collapsed": false,
     "input": [],
     "language": "python",
     "metadata": {},
     "outputs": [],
     "prompt_number": 22
    }
   ],
   "metadata": {}
  }
 ]
}